{
 "cells": [
  {
   "cell_type": "markdown",
   "metadata": {},
   "source": [
    "# Python all String Methods"
   ]
  },
  {
   "cell_type": "markdown",
   "metadata": {},
   "source": [
    "## Method: 'capitalize()'"
   ]
  },
  {
   "cell_type": "markdown",
   "metadata": {},
   "source": [
    "### Converts first character to Capital Letter"
   ]
  },
  {
   "cell_type": "code",
   "execution_count": 2,
   "metadata": {},
   "outputs": [
    {
     "name": "stdout",
     "output_type": "stream",
     "text": [
      "Hamza\n"
     ]
    }
   ],
   "source": [
    "name = \"hamza\"\n",
    "name = name.capitalize()\n",
    "print(name)"
   ]
  },
  {
   "cell_type": "markdown",
   "metadata": {},
   "source": [
    "## Method: 'casefold()'"
   ]
  },
  {
   "cell_type": "markdown",
   "metadata": {},
   "source": [
    "### Converts string into lower case"
   ]
  },
  {
   "cell_type": "code",
   "execution_count": 3,
   "metadata": {},
   "outputs": [
    {
     "name": "stdout",
     "output_type": "stream",
     "text": [
      "piaic islamabad batch 3\n"
     ]
    }
   ],
   "source": [
    "string = \"PIAIC ISLAMABAD BATCH 3\"\n",
    "new_string = string.casefold()\n",
    "print(new_string)"
   ]
  },
  {
   "cell_type": "markdown",
   "metadata": {},
   "source": [
    "## Method: 'center()'"
   ]
  },
  {
   "cell_type": "markdown",
   "metadata": {},
   "source": [
    "### Pads string with specified character"
   ]
  },
  {
   "cell_type": "code",
   "execution_count": 4,
   "metadata": {},
   "outputs": [
    {
     "name": "stdout",
     "output_type": "stream",
     "text": [
      "****piaic isb batch*****\n"
     ]
    }
   ],
   "source": [
    "string = \"piaic isb batch\"\n",
    "new_string = string.center(24, '*')\n",
    "print(new_string)"
   ]
  },
  {
   "cell_type": "markdown",
   "metadata": {},
   "source": [
    "## Method: 'count()'"
   ]
  },
  {
   "cell_type": "markdown",
   "metadata": {},
   "source": [
    "returns occurrences of substring in string"
   ]
  },
  {
   "cell_type": "code",
   "execution_count": 8,
   "metadata": {},
   "outputs": [
    {
     "name": "stdout",
     "output_type": "stream",
     "text": [
      "The count is: 2\n"
     ]
    }
   ],
   "source": [
    "string = \"PIAIC Islamabad Batch, PIAIC AI Class\"\n",
    "substring = \"PIAIC\"\n",
    "\n",
    "count = string.count(substring)\n",
    "\n",
    "# print count\n",
    "print(\"The count is:\", count)"
   ]
  },
  {
   "cell_type": "markdown",
   "metadata": {},
   "source": [
    "## Method: 'endswith()'"
   ]
  },
  {
   "cell_type": "markdown",
   "metadata": {},
   "source": [
    "### Checks if String Ends with the Specified Suffix"
   ]
  },
  {
   "cell_type": "code",
   "execution_count": 10,
   "metadata": {},
   "outputs": [
    {
     "name": "stdout",
     "output_type": "stream",
     "text": [
      "False\n",
      "True\n",
      "True\n"
     ]
    }
   ],
   "source": [
    "text = \"PIAIC ISLAMABAD BATCH 3 QUARTER 1.\"\n",
    "\n",
    "result = text.endswith('QUATER 1')\n",
    "# returns False\n",
    "print(result)\n",
    "\n",
    "result = text.endswith('QUARTER 1.')\n",
    "# returns True\n",
    "print(result)\n",
    "\n",
    "result = text.endswith('BATCH 3 QUARTER 1.')\n",
    "# returns True\n",
    "print(result)"
   ]
  },
  {
   "cell_type": "markdown",
   "metadata": {},
   "source": [
    "## Method: 'expandtabs()'"
   ]
  },
  {
   "cell_type": "markdown",
   "metadata": {},
   "source": [
    "### Replaces Tab character With Spaces"
   ]
  },
  {
   "cell_type": "code",
   "execution_count": 11,
   "metadata": {},
   "outputs": [
    {
     "name": "stdout",
     "output_type": "stream",
     "text": [
      "piaic   islamabad       batch3\n"
     ]
    }
   ],
   "source": [
    "str = 'piaic\\tislamabad\\tbatch3'\n",
    "\n",
    "# no argument is passed\n",
    "# default tabsize is 8\n",
    "result = str.expandtabs()\n",
    "\n",
    "print(result)"
   ]
  },
  {
   "cell_type": "markdown",
   "metadata": {},
   "source": [
    "## Method: 'encode()'"
   ]
  },
  {
   "cell_type": "markdown",
   "metadata": {},
   "source": [
    "### returns encoded string of given string"
   ]
  },
  {
   "cell_type": "code",
   "execution_count": 14,
   "metadata": {},
   "outputs": [
    {
     "name": "stdout",
     "output_type": "stream",
     "text": [
      "The string is: pythön!\n",
      "The encoded version is: b'pyth\\xc3\\xb6n!'\n",
      "The encoded version (with ignore) is: b'pythn!'\n",
      "The encoded version (with replace) is: b'pyth?n!'\n"
     ]
    }
   ],
   "source": [
    "# unicode string\n",
    "string = 'pythön!'\n",
    "# print string\n",
    "print('The string is:', string)\n",
    "# default encoding to utf-8\n",
    "string_utf = string.encode()\n",
    "# print result\n",
    "print('The encoded version is:', string_utf)\n",
    "# ignore error\n",
    "print('The encoded version (with ignore) is:', string.encode(\"ascii\", \"ignore\"))\n",
    "# replace error\n",
    "print('The encoded version (with replace) is:', string.encode(\"ascii\", \"replace\"))"
   ]
  },
  {
   "cell_type": "markdown",
   "metadata": {},
   "source": [
    "## Method: 'find()'"
   ]
  },
  {
   "cell_type": "markdown",
   "metadata": {},
   "source": [
    "### Returns the index of first occurrence of substring"
   ]
  },
  {
   "cell_type": "code",
   "execution_count": 15,
   "metadata": {},
   "outputs": [
    {
     "name": "stdout",
     "output_type": "stream",
     "text": [
      "-1\n",
      "3\n",
      "-1\n",
      "9\n"
     ]
    }
   ],
   "source": [
    "quote = 'Do small things with great love'\n",
    "\n",
    "# Substring is searched in 'hings with great love'\n",
    "print(quote.find('small things', 10))\n",
    "\n",
    "# Substring is searched in ' small things with great love' \n",
    "print(quote.find('small things', 2))\n",
    "\n",
    "# Substring is searched in 'hings with great lov'\n",
    "print(quote.find('o small ', 10, -1))\n",
    "\n",
    "# Substring is searched in 'll things with'\n",
    "print(quote.find('things ', 6, 20))"
   ]
  },
  {
   "cell_type": "markdown",
   "metadata": {},
   "source": [
    "## Method: 'format()'"
   ]
  },
  {
   "cell_type": "markdown",
   "metadata": {},
   "source": [
    "### Formats specified values in a string"
   ]
  },
  {
   "cell_type": "code",
   "execution_count": 16,
   "metadata": {},
   "outputs": [
    {
     "name": "stdout",
     "output_type": "stream",
     "text": [
      "Hello Hamza, your balance is 230.2346.\n",
      "Hello Hamza, your balance is 230.2346.\n",
      "Hello Hamza, your balance is 230.2346.\n",
      "Hello Hamza, your balance is 230.2346.\n"
     ]
    }
   ],
   "source": [
    "# default arguments\n",
    "print(\"Hello {}, your balance is {}.\".format(\"Hamza\", 230.2346))\n",
    "\n",
    "# positional arguments\n",
    "print(\"Hello {0}, your balance is {1}.\".format(\"Hamza\", 230.2346))\n",
    "\n",
    "# keyword arguments\n",
    "print(\"Hello {name}, your balance is {blc}.\".format(name=\"Hamza\", blc=230.2346))\n",
    "\n",
    "# mixed arguments\n",
    "print(\"Hello {0}, your balance is {blc}.\".format(\"Hamza\", blc=230.2346))"
   ]
  },
  {
   "cell_type": "markdown",
   "metadata": {},
   "source": [
    "## Method: 'index()'"
   ]
  },
  {
   "cell_type": "markdown",
   "metadata": {},
   "source": [
    "### Returns Index of Substring"
   ]
  },
  {
   "cell_type": "code",
   "execution_count": 18,
   "metadata": {},
   "outputs": [
    {
     "name": "stdout",
     "output_type": "stream",
     "text": [
      "Substring 'Islamabad': 6\n",
      "Substring 'Quarter': 23\n"
     ]
    }
   ],
   "source": [
    "sentence = 'PIAIC Islamabad Batch3 Quarter1.'\n",
    "\n",
    "result = sentence.index('Islamabad')\n",
    "print(\"Substring 'Islamabad':\", result)\n",
    "\n",
    "result = sentence.index('Quarter')\n",
    "print(\"Substring 'Quarter':\", result)"
   ]
  },
  {
   "cell_type": "markdown",
   "metadata": {},
   "source": [
    "## Method: 'isalnum()'"
   ]
  },
  {
   "cell_type": "markdown",
   "metadata": {},
   "source": [
    "### Checks Alphanumeric Character"
   ]
  },
  {
   "cell_type": "code",
   "execution_count": 20,
   "metadata": {},
   "outputs": [
    {
     "name": "stdout",
     "output_type": "stream",
     "text": [
      "True\n",
      "False\n",
      "True\n",
      "True\n"
     ]
    }
   ],
   "source": [
    "name = \"P234IAIC\"\n",
    "print(name.isalnum())\n",
    "\n",
    "# contains whitespace\n",
    "name = \"P3onIAIC Islam22bad \"\n",
    "print(name.isalnum())\n",
    "\n",
    "name = \"PI3nAICIslam22bad\"\n",
    "print(name.isalnum())\n",
    "\n",
    "name = \"133\"\n",
    "print(name.isalnum())"
   ]
  },
  {
   "cell_type": "markdown",
   "metadata": {},
   "source": [
    "## Method: 'isalpha()'"
   ]
  },
  {
   "cell_type": "markdown",
   "metadata": {},
   "source": [
    "### Checks if All Characters are Alphabets"
   ]
  },
  {
   "cell_type": "code",
   "execution_count": 21,
   "metadata": {},
   "outputs": [
    {
     "name": "stdout",
     "output_type": "stream",
     "text": [
      "True\n",
      "False\n",
      "False\n"
     ]
    }
   ],
   "source": [
    "name = \"PIAIC\"\n",
    "print(name.isalpha())\n",
    "\n",
    "# contains whitespace\n",
    "name = \"PIAIC Islamabad\"\n",
    "print(name.isalpha())\n",
    "\n",
    "# contains number\n",
    "name = \"PI3nAICIslam22bad\"\n",
    "print(name.isalpha())"
   ]
  },
  {
   "cell_type": "markdown",
   "metadata": {},
   "source": [
    "## Method: isdecimal()"
   ]
  },
  {
   "cell_type": "markdown",
   "metadata": {},
   "source": [
    "### Checks Decimal Characters"
   ]
  },
  {
   "cell_type": "code",
   "execution_count": 22,
   "metadata": {},
   "outputs": [
    {
     "name": "stdout",
     "output_type": "stream",
     "text": [
      "True\n",
      "False\n",
      "False\n"
     ]
    }
   ],
   "source": [
    "s = \"28212\"\n",
    "print(s.isdecimal())\n",
    "\n",
    "# contains alphabets\n",
    "s = \"32ladk3\"\n",
    "print(s.isdecimal())\n",
    "\n",
    "# contains alphabets and spaces\n",
    "s = \"Mo3 nicaG el l22er\"\n",
    "print(s.isdecimal())"
   ]
  },
  {
   "cell_type": "markdown",
   "metadata": {},
   "source": [
    "## Method: 'isdigit()'"
   ]
  },
  {
   "cell_type": "markdown",
   "metadata": {},
   "source": [
    "### Checks Digit Characters"
   ]
  },
  {
   "cell_type": "code",
   "execution_count": 23,
   "metadata": {},
   "outputs": [
    {
     "name": "stdout",
     "output_type": "stream",
     "text": [
      "True\n",
      "False\n"
     ]
    }
   ],
   "source": [
    "s = \"28212\"\n",
    "print(s.isdigit())\n",
    "\n",
    "# contains alphabets and spaces\n",
    "s = \"Mo3 nicaG el l22er\"\n",
    "print(s.isdigit())"
   ]
  },
  {
   "cell_type": "markdown",
   "metadata": {},
   "source": [
    "## Method: 'isidentifier()'"
   ]
  },
  {
   "cell_type": "markdown",
   "metadata": {},
   "source": [
    "### Checks for Valid Identifier"
   ]
  },
  {
   "cell_type": "code",
   "execution_count": 24,
   "metadata": {},
   "outputs": [
    {
     "name": "stdout",
     "output_type": "stream",
     "text": [
      "True\n",
      "False\n",
      "False\n",
      "False\n"
     ]
    }
   ],
   "source": [
    "str = 'PIAIC'\n",
    "print(str.isidentifier())\n",
    "\n",
    "str = 'PI AIC'\n",
    "print(str.isidentifier())\n",
    "\n",
    "str = '22PIAIC'\n",
    "print(str.isidentifier())\n",
    "\n",
    "str = ''\n",
    "print(str.isidentifier())"
   ]
  },
  {
   "cell_type": "markdown",
   "metadata": {},
   "source": [
    "## Method: 'islower()'"
   ]
  },
  {
   "cell_type": "markdown",
   "metadata": {},
   "source": [
    "### Checks if all Alphabets in a String are Lowercase"
   ]
  },
  {
   "cell_type": "code",
   "execution_count": 25,
   "metadata": {},
   "outputs": [
    {
     "name": "stdout",
     "output_type": "stream",
     "text": [
      "True\n",
      "True\n",
      "False\n"
     ]
    }
   ],
   "source": [
    "s = 'this is good'\n",
    "print(s.islower())\n",
    "\n",
    "s = 'th!s is a1so g00d'\n",
    "print(s.islower())\n",
    "\n",
    "s = 'this is Not good'\n",
    "print(s.islower())"
   ]
  },
  {
   "cell_type": "markdown",
   "metadata": {},
   "source": [
    "## Method: 'isnumeric()'"
   ]
  },
  {
   "cell_type": "markdown",
   "metadata": {},
   "source": [
    "### Checks Numeric Characters"
   ]
  },
  {
   "cell_type": "code",
   "execution_count": 26,
   "metadata": {},
   "outputs": [
    {
     "name": "stdout",
     "output_type": "stream",
     "text": [
      "True\n",
      "True\n",
      "True\n",
      "False\n"
     ]
    }
   ],
   "source": [
    "s = '1242323'\n",
    "print(s.isnumeric())\n",
    "#s = '²3455'\n",
    "s = '\\u00B23455'\n",
    "print(s.isnumeric())\n",
    "# s = '½'\n",
    "s = '\\u00BD'\n",
    "print(s.isnumeric())\n",
    "s = '1242323'\n",
    "s='python12'\n",
    "print(s.isnumeric())"
   ]
  },
  {
   "cell_type": "markdown",
   "metadata": {},
   "source": [
    "## Method: 'isprintable()'"
   ]
  },
  {
   "cell_type": "markdown",
   "metadata": {},
   "source": [
    "### Checks Printable Character"
   ]
  },
  {
   "cell_type": "code",
   "execution_count": 27,
   "metadata": {},
   "outputs": [
    {
     "name": "stdout",
     "output_type": "stream",
     "text": [
      "Space is a printable\n",
      "True\n",
      "\n",
      "New Line is printable\n",
      "False\n",
      "\n",
      "Empty string printable? True\n"
     ]
    }
   ],
   "source": [
    "s = 'Space is a printable'\n",
    "print(s)\n",
    "print(s.isprintable())\n",
    "\n",
    "s = '\\nNew Line is printable'\n",
    "print(s)\n",
    "print(s.isprintable())\n",
    "\n",
    "s = ''\n",
    "print('\\nEmpty string printable?', s.isprintable())"
   ]
  },
  {
   "cell_type": "markdown",
   "metadata": {},
   "source": [
    "## Method: 'isspace()'"
   ]
  },
  {
   "cell_type": "markdown",
   "metadata": {},
   "source": [
    "### Checks Whitespace Characters"
   ]
  },
  {
   "cell_type": "code",
   "execution_count": 28,
   "metadata": {},
   "outputs": [
    {
     "name": "stdout",
     "output_type": "stream",
     "text": [
      "True\n",
      "False\n",
      "False\n"
     ]
    }
   ],
   "source": [
    "s = '   \\t'\n",
    "print(s.isspace())\n",
    "\n",
    "s = ' a '\n",
    "print(s.isspace())\n",
    "\n",
    "s = ''\n",
    "print(s.isspace())"
   ]
  },
  {
   "cell_type": "markdown",
   "metadata": {},
   "source": [
    "## Method: 'istitle()'"
   ]
  },
  {
   "cell_type": "markdown",
   "metadata": {},
   "source": [
    "### Checks for Titlecased String"
   ]
  },
  {
   "cell_type": "code",
   "execution_count": 29,
   "metadata": {},
   "outputs": [
    {
     "name": "stdout",
     "output_type": "stream",
     "text": [
      "True\n",
      "False\n",
      "True\n",
      "True\n",
      "False\n"
     ]
    }
   ],
   "source": [
    "s = 'Python Is Good.'\n",
    "print(s.istitle())\n",
    "\n",
    "s = 'Python is good'\n",
    "print(s.istitle())\n",
    "\n",
    "s = 'This Is @ Symbol.'\n",
    "print(s.istitle())\n",
    "\n",
    "s = '99 Is A Number'\n",
    "print(s.istitle())\n",
    "\n",
    "s = 'PYTHON'\n",
    "print(s.istitle())"
   ]
  },
  {
   "cell_type": "markdown",
   "metadata": {},
   "source": [
    "## Method: 'isupper()'"
   ]
  },
  {
   "cell_type": "markdown",
   "metadata": {},
   "source": [
    "### returns if all characters are uppercase characters"
   ]
  },
  {
   "cell_type": "code",
   "execution_count": 30,
   "metadata": {},
   "outputs": [
    {
     "name": "stdout",
     "output_type": "stream",
     "text": [
      "True\n",
      "True\n",
      "False\n"
     ]
    }
   ],
   "source": [
    "# example string\n",
    "string = \"THIS IS GOOD!\"\n",
    "print(string.isupper());\n",
    "\n",
    "# numbers in place of alphabets\n",
    "string = \"THIS IS ALSO G00D!\"\n",
    "print(string.isupper());\n",
    "\n",
    "# lowercase string\n",
    "string = \"THIS IS not GOOD!\"\n",
    "print(string.isupper());"
   ]
  },
  {
   "cell_type": "markdown",
   "metadata": {},
   "source": [
    "## Method: 'join()'"
   ]
  },
  {
   "cell_type": "markdown",
   "metadata": {},
   "source": [
    "### Returns a Concatenated String"
   ]
  },
  {
   "cell_type": "code",
   "execution_count": 31,
   "metadata": {},
   "outputs": [
    {
     "name": "stdout",
     "output_type": "stream",
     "text": [
      "1, 2, 3, 4\n",
      "1, 2, 3, 4\n",
      "s1.join(s2): 1abc2abc3\n",
      "s2.join(s1): a123b123c\n"
     ]
    }
   ],
   "source": [
    "numList = ['1', '2', '3', '4']\n",
    "seperator = ', '\n",
    "print(seperator.join(numList))\n",
    "\n",
    "numTuple = ('1', '2', '3', '4')\n",
    "print(seperator.join(numTuple))\n",
    "\n",
    "s1 = 'abc'\n",
    "s2 = '123'\n",
    "\n",
    "\"\"\" Each character of s2 is concatenated to the front of s1\"\"\" \n",
    "print('s1.join(s2):', s1.join(s2))\n",
    "\n",
    "\"\"\" Each character of s1 is concatenated to the front of s2\"\"\" \n",
    "print('s2.join(s1):', s2.join(s1))"
   ]
  },
  {
   "cell_type": "markdown",
   "metadata": {},
   "source": [
    "## Method: 'ljust()'"
   ]
  },
  {
   "cell_type": "markdown",
   "metadata": {},
   "source": [
    "### returns left-justified string of given width"
   ]
  },
  {
   "cell_type": "code",
   "execution_count": 32,
   "metadata": {},
   "outputs": [
    {
     "name": "stdout",
     "output_type": "stream",
     "text": [
      "cat  \n"
     ]
    }
   ],
   "source": [
    "# example string\n",
    "string = 'cat'\n",
    "width = 5\n",
    "\n",
    "# print left justified string\n",
    "print(string.ljust(width))"
   ]
  },
  {
   "cell_type": "markdown",
   "metadata": {},
   "source": [
    "## Method: 'rjust()'"
   ]
  },
  {
   "cell_type": "markdown",
   "metadata": {},
   "source": [
    "### returns right-justified string of given width"
   ]
  },
  {
   "cell_type": "code",
   "execution_count": 33,
   "metadata": {},
   "outputs": [
    {
     "name": "stdout",
     "output_type": "stream",
     "text": [
      "  cat\n"
     ]
    }
   ],
   "source": [
    "# example string\n",
    "string = 'cat'\n",
    "width = 5\n",
    "\n",
    "# print right justified string\n",
    "print(string.rjust(width))"
   ]
  },
  {
   "cell_type": "markdown",
   "metadata": {},
   "source": [
    "## Method: 'lower()'"
   ]
  },
  {
   "cell_type": "markdown",
   "metadata": {},
   "source": [
    "### returns lowercased string"
   ]
  },
  {
   "cell_type": "code",
   "execution_count": 34,
   "metadata": {},
   "outputs": [
    {
     "name": "stdout",
     "output_type": "stream",
     "text": [
      "this should be lowercase!\n",
      "th!s sh0uld b3 l0w3rcas3!\n"
     ]
    }
   ],
   "source": [
    "# example string\n",
    "string = \"THIS SHOULD BE LOWERCASE!\"\n",
    "print(string.lower())\n",
    "\n",
    "# string with numbers\n",
    "# all alphabets whould be lowercase\n",
    "string = \"Th!s Sh0uLd B3 L0w3rCas3!\"\n",
    "print(string.lower())"
   ]
  },
  {
   "cell_type": "markdown",
   "metadata": {},
   "source": [
    "## Method: 'upper()'"
   ]
  },
  {
   "cell_type": "markdown",
   "metadata": {},
   "source": [
    "### returns uppercased string"
   ]
  },
  {
   "cell_type": "code",
   "execution_count": 35,
   "metadata": {},
   "outputs": [
    {
     "name": "stdout",
     "output_type": "stream",
     "text": [
      "THIS SHOULD BE UPPERCASE!\n",
      "TH!S SH0ULD B3 UPP3RCAS3!\n"
     ]
    }
   ],
   "source": [
    "# example string\n",
    "string = \"this should be uppercase!\"\n",
    "print(string.upper())\n",
    "\n",
    "# string with numbers\n",
    "# all alphabets whould be lowercase\n",
    "string = \"Th!s Sh0uLd B3 uPp3rCas3!\"\n",
    "print(string.upper())"
   ]
  },
  {
   "cell_type": "markdown",
   "metadata": {},
   "source": [
    "## Method: 'swapcase()'"
   ]
  },
  {
   "cell_type": "markdown",
   "metadata": {},
   "source": [
    "### swap uppercase characters to lowercase; vice versa"
   ]
  },
  {
   "cell_type": "code",
   "execution_count": 36,
   "metadata": {},
   "outputs": [
    {
     "name": "stdout",
     "output_type": "stream",
     "text": [
      "this should all be lowercase.\n",
      "THIS SHOULD ALL BE UPPERCASE.\n",
      "tHiS sHoUlD bE mIxEd CaSeD.\n"
     ]
    }
   ],
   "source": [
    "# example string\n",
    "string = \"THIS SHOULD ALL BE LOWERCASE.\"\n",
    "print(string.swapcase())\n",
    "\n",
    "string = \"this should all be uppercase.\"\n",
    "print(string.swapcase())\n",
    "\n",
    "string = \"ThIs ShOuLd Be MiXeD cAsEd.\"\n",
    "print(string.swapcase())"
   ]
  },
  {
   "cell_type": "markdown",
   "metadata": {},
   "source": [
    "## Method: lstrip()"
   ]
  },
  {
   "cell_type": "markdown",
   "metadata": {},
   "source": [
    "### Removes Leading Characters"
   ]
  },
  {
   "cell_type": "code",
   "execution_count": 37,
   "metadata": {},
   "outputs": [
    {
     "name": "stdout",
     "output_type": "stream",
     "text": [
      "this is good \n",
      "   this is good \n",
      "his is good \n",
      "iaic.portal.org/\n"
     ]
    }
   ],
   "source": [
    "random_string = '   this is good '\n",
    "\n",
    "# Leading whitepsace are removed\n",
    "print(random_string.lstrip())\n",
    "\n",
    "# Argument doesn't contain space\n",
    "# No characters are removed.\n",
    "print(random_string.lstrip('sti'))\n",
    "\n",
    "print(random_string.lstrip('s ti'))\n",
    "\n",
    "website = 'https://piaic.portal.org/'\n",
    "print(website.lstrip('htps:/.'))"
   ]
  },
  {
   "cell_type": "markdown",
   "metadata": {},
   "source": [
    "## Method: 'rstrip()'"
   ]
  },
  {
   "cell_type": "markdown",
   "metadata": {},
   "source": [
    "### Removes Trailing Characters"
   ]
  },
  {
   "cell_type": "code",
   "execution_count": 38,
   "metadata": {},
   "outputs": [
    {
     "name": "stdout",
     "output_type": "stream",
     "text": [
      " this is good\n",
      " this is good\n",
      " this is g\n",
      "piaic.portal.org\n"
     ]
    }
   ],
   "source": [
    "random_string = ' this is good'\n",
    "\n",
    "# Leading whitepsace are removed\n",
    "print(random_string.rstrip())\n",
    "\n",
    "# Argument doesn't contain 'd'\n",
    "# No characters are removed.\n",
    "print(random_string.rstrip('si oo'))\n",
    "\n",
    "print(random_string.rstrip('sid oo'))\n",
    "\n",
    "website = 'piaic.portal.org/'\n",
    "print(website.rstrip('m/.'))"
   ]
  },
  {
   "cell_type": "markdown",
   "metadata": {},
   "source": [
    "## Method: 'strip()'"
   ]
  },
  {
   "cell_type": "markdown",
   "metadata": {},
   "source": [
    "### Removes Both Leading and Trailing Characters"
   ]
  },
  {
   "cell_type": "code",
   "execution_count": 39,
   "metadata": {},
   "outputs": [
    {
     "name": "stdout",
     "output_type": "stream",
     "text": [
      "xoxo love xoxo\n",
      "lov\n",
      " xoxo love xoxo   \n",
      "droid is awesome\n"
     ]
    }
   ],
   "source": [
    "string = ' xoxo love xoxo   '\n",
    "\n",
    "# Leading whitepsace are removed\n",
    "print(string.strip())\n",
    "\n",
    "print(string.strip(' xoxoe'))\n",
    "\n",
    "# Argument doesn't contain space\n",
    "# No characters are removed.\n",
    "print(string.strip('sti'))\n",
    "\n",
    "string = 'android is awesome'\n",
    "print(string.strip('an'))"
   ]
  },
  {
   "cell_type": "markdown",
   "metadata": {},
   "source": [
    "## Method: 'partition()'"
   ]
  },
  {
   "cell_type": "markdown",
   "metadata": {},
   "source": [
    "### Returns a Tuple"
   ]
  },
  {
   "cell_type": "code",
   "execution_count": 40,
   "metadata": {},
   "outputs": [
    {
     "name": "stdout",
     "output_type": "stream",
     "text": [
      "('Python ', 'is ', 'fun')\n",
      "('Python is fun', '', '')\n",
      "('Python ', 'is', \" fun, isn't it\")\n"
     ]
    }
   ],
   "source": [
    "string = \"Python is fun\"\n",
    "\n",
    "# 'is' separator is found\n",
    "print(string.partition('is '))\n",
    "\n",
    "# 'not' separator is not found\n",
    "print(string.partition('not '))\n",
    "\n",
    "string = \"Python is fun, isn't it\"\n",
    "\n",
    "# splits at first occurence of 'is'\n",
    "print(string.partition('is'))"
   ]
  },
  {
   "cell_type": "markdown",
   "metadata": {},
   "source": [
    "## Method: 'maketrans()'"
   ]
  },
  {
   "cell_type": "markdown",
   "metadata": {},
   "source": [
    "### returns a translation table"
   ]
  },
  {
   "cell_type": "code",
   "execution_count": 41,
   "metadata": {},
   "outputs": [
    {
     "name": "stdout",
     "output_type": "stream",
     "text": [
      "{97: '123', 98: '456', 99: '789'}\n",
      "{97: '123', 98: '456', 99: '789'}\n"
     ]
    }
   ],
   "source": [
    "# example dictionary\n",
    "dict = {\"a\": \"123\", \"b\": \"456\", \"c\": \"789\"}\n",
    "string = \"abc\"\n",
    "print(string.maketrans(dict))\n",
    "\n",
    "# example dictionary\n",
    "dict = {97: \"123\", 98: \"456\", 99: \"789\"}\n",
    "string = \"abc\"\n",
    "print(string.maketrans(dict))"
   ]
  },
  {
   "cell_type": "markdown",
   "metadata": {},
   "source": [
    "## Method: 'rpartition()'"
   ]
  },
  {
   "cell_type": "markdown",
   "metadata": {},
   "source": [
    "### \tReturns a Tuple"
   ]
  },
  {
   "cell_type": "code",
   "execution_count": 42,
   "metadata": {},
   "outputs": [
    {
     "name": "stdout",
     "output_type": "stream",
     "text": [
      "('Python ', 'is ', 'fun')\n",
      "('', '', 'Python is fun')\n",
      "('Python is fun, ', 'is', \"n't it\")\n"
     ]
    }
   ],
   "source": [
    "string = \"Python is fun\"\n",
    "\n",
    "# 'is' separator is found\n",
    "print(string.rpartition('is '))\n",
    "\n",
    "# 'not' separator is not found\n",
    "print(string.rpartition('not '))\n",
    "\n",
    "string = \"Python is fun, isn't it\"\n",
    "\n",
    "# splits at last occurence of 'is'\n",
    "print(string.rpartition('is'))"
   ]
  },
  {
   "cell_type": "markdown",
   "metadata": {},
   "source": [
    "## Method: 'translate()'"
   ]
  },
  {
   "cell_type": "markdown",
   "metadata": {},
   "source": [
    "### returns mapped charactered string"
   ]
  },
  {
   "cell_type": "code",
   "execution_count": 43,
   "metadata": {},
   "outputs": [
    {
     "name": "stdout",
     "output_type": "stream",
     "text": [
      "Original string: abcdef\n",
      "Translated string: idef\n"
     ]
    }
   ],
   "source": [
    "# first string\n",
    "firstString = \"abc\"\n",
    "secondString = \"ghi\"\n",
    "thirdString = \"ab\"\n",
    "\n",
    "string = \"abcdef\"\n",
    "print(\"Original string:\", string)\n",
    "\n",
    "translation = string.maketrans(firstString, secondString, thirdString)\n",
    "\n",
    "# translate string\n",
    "print(\"Translated string:\", string.translate(translation))"
   ]
  },
  {
   "cell_type": "markdown",
   "metadata": {},
   "source": [
    "## Method: 'replace()'"
   ]
  },
  {
   "cell_type": "markdown",
   "metadata": {},
   "source": [
    "### Replaces Substring Inside"
   ]
  },
  {
   "cell_type": "code",
   "execution_count": 44,
   "metadata": {},
   "outputs": [
    {
     "name": "stdout",
     "output_type": "stream",
     "text": [
      "hurt, hurt heart\n",
      "Let it be, don't let it be, don't let it be, let it be\n"
     ]
    }
   ],
   "source": [
    "song = 'cold, cold heart'\n",
    "print (song.replace('cold', 'hurt'))\n",
    "\n",
    "song = 'Let it be, let it be, let it be, let it be'\n",
    "\n",
    "'''only two occurences of 'let' is replaced'''\n",
    "print(song.replace('let', \"don't let\", 2))"
   ]
  },
  {
   "cell_type": "markdown",
   "metadata": {},
   "source": [
    "## Method: 'rfind()'"
   ]
  },
  {
   "cell_type": "markdown",
   "metadata": {},
   "source": [
    "### Returns the Highest Index of Substring"
   ]
  },
  {
   "cell_type": "code",
   "execution_count": 45,
   "metadata": {},
   "outputs": [
    {
     "name": "stdout",
     "output_type": "stream",
     "text": [
      "Substring 'let it': 22\n",
      "Substring 'small ': -1\n",
      "Highest index where 'be,' occurs: 18\n"
     ]
    }
   ],
   "source": [
    "quote = 'Let it be, let it be, let it be'\n",
    "\n",
    "result = quote.rfind('let it')\n",
    "print(\"Substring 'let it':\", result)\n",
    "\n",
    "result = quote.rfind('small')\n",
    "print(\"Substring 'small ':\", result)\n",
    "\n",
    "result = quote.rfind('be,')\n",
    "if  (result != -1):\n",
    "  print(\"Highest index where 'be,' occurs:\", result)\n",
    "else:\n",
    "  print(\"Doesn't contain substring\")"
   ]
  },
  {
   "cell_type": "markdown",
   "metadata": {},
   "source": [
    "## Method: 'rindex()'"
   ]
  },
  {
   "cell_type": "markdown",
   "metadata": {},
   "source": [
    "### Returns Highest Index of Substring"
   ]
  },
  {
   "cell_type": "code",
   "execution_count": 46,
   "metadata": {},
   "outputs": [
    {
     "name": "stdout",
     "output_type": "stream",
     "text": [
      "25\n",
      "18\n"
     ]
    },
    {
     "ename": "ValueError",
     "evalue": "substring not found",
     "output_type": "error",
     "traceback": [
      "\u001b[1;31m---------------------------------------------------------------------------\u001b[0m",
      "\u001b[1;31mValueError\u001b[0m                                Traceback (most recent call last)",
      "\u001b[1;32m<ipython-input-46-f39cf6c67eff>\u001b[0m in \u001b[0;36m<module>\u001b[1;34m()\u001b[0m\n\u001b[0;32m      8\u001b[0m \u001b[1;33m\u001b[0m\u001b[0m\n\u001b[0;32m      9\u001b[0m \u001b[1;31m# Substring is searched in 'hings with great lov'\u001b[0m\u001b[1;33m\u001b[0m\u001b[1;33m\u001b[0m\u001b[0m\n\u001b[1;32m---> 10\u001b[1;33m \u001b[0mprint\u001b[0m\u001b[1;33m(\u001b[0m\u001b[0mquote\u001b[0m\u001b[1;33m.\u001b[0m\u001b[0mrindex\u001b[0m\u001b[1;33m(\u001b[0m\u001b[1;34m'o small '\u001b[0m\u001b[1;33m,\u001b[0m \u001b[1;36m10\u001b[0m\u001b[1;33m,\u001b[0m \u001b[1;33m-\u001b[0m\u001b[1;36m1\u001b[0m\u001b[1;33m)\u001b[0m\u001b[1;33m)\u001b[0m\u001b[1;33m\u001b[0m\u001b[0m\n\u001b[0m",
      "\u001b[1;31mValueError\u001b[0m: substring not found"
     ]
    }
   ],
   "source": [
    "quote = 'Do small things with great love'\n",
    "\n",
    "# Substring is searched in ' small things with great love' \n",
    "print(quote.rindex('t', 2))\n",
    "\n",
    "# Substring is searched in 'll things with'\n",
    "print(quote.rindex('th', 6, 20))\n",
    "\n",
    "# Substring is searched in 'hings with great lov'\n",
    "print(quote.rindex('o small ', 10, -1))"
   ]
  },
  {
   "cell_type": "markdown",
   "metadata": {},
   "source": [
    "## Method: 'split()'"
   ]
  },
  {
   "cell_type": "markdown",
   "metadata": {},
   "source": [
    "### Splits String from Left"
   ]
  },
  {
   "cell_type": "code",
   "execution_count": 47,
   "metadata": {},
   "outputs": [
    {
     "name": "stdout",
     "output_type": "stream",
     "text": [
      "['Love', 'thy', 'neighbor']\n",
      "['Milk', 'Chicken', 'Bread']\n",
      "['Milk, Chicken, Bread']\n"
     ]
    }
   ],
   "source": [
    "text= 'Love thy neighbor'\n",
    "\n",
    "# splits at space\n",
    "print(text.split())\n",
    "\n",
    "grocery = 'Milk, Chicken, Bread'\n",
    "\n",
    "# splits at ','\n",
    "print(grocery.split(', '))\n",
    "\n",
    "# Splitting at ':'\n",
    "print(grocery.split(':'))"
   ]
  },
  {
   "cell_type": "markdown",
   "metadata": {},
   "source": [
    "## Method: 'rsplit()'"
   ]
  },
  {
   "cell_type": "markdown",
   "metadata": {},
   "source": [
    "### Splits String From Right"
   ]
  },
  {
   "cell_type": "code",
   "execution_count": 48,
   "metadata": {},
   "outputs": [
    {
     "name": "stdout",
     "output_type": "stream",
     "text": [
      "['Love', 'thy', 'neighbor']\n",
      "['Milk', 'Chicken', 'Bread']\n",
      "['Milk, Chicken, Bread']\n"
     ]
    }
   ],
   "source": [
    "text= 'Love thy neighbor'\n",
    "\n",
    "# splits at space\n",
    "print(text.rsplit())\n",
    "\n",
    "grocery = 'Milk, Chicken, Bread'\n",
    "\n",
    "# splits at ','\n",
    "print(grocery.rsplit(', '))\n",
    "\n",
    "# Splitting at ':'\n",
    "print(grocery.rsplit(':'))"
   ]
  },
  {
   "cell_type": "markdown",
   "metadata": {},
   "source": [
    "## Method: 'splitlines()'"
   ]
  },
  {
   "cell_type": "markdown",
   "metadata": {},
   "source": [
    "### Splits String at Line Boundaries"
   ]
  },
  {
   "cell_type": "code",
   "execution_count": 49,
   "metadata": {},
   "outputs": [
    {
     "name": "stdout",
     "output_type": "stream",
     "text": [
      "['Milk', 'Chicken', 'Bread', 'Butter']\n",
      "['Milk\\n', 'Chicken\\r\\n', 'Bread\\r', 'Butter']\n",
      "['Milk Chicken Bread Butter']\n"
     ]
    }
   ],
   "source": [
    "grocery = 'Milk\\nChicken\\r\\nBread\\rButter'\n",
    "\n",
    "print(grocery.splitlines())\n",
    "print(grocery.splitlines(True))\n",
    "\n",
    "grocery = 'Milk Chicken Bread Butter'\n",
    "print(grocery.splitlines())"
   ]
  },
  {
   "cell_type": "markdown",
   "metadata": {},
   "source": [
    "## Method: 'startswith()'"
   ]
  },
  {
   "cell_type": "markdown",
   "metadata": {},
   "source": [
    "### Checks if String Starts with the Specified String"
   ]
  },
  {
   "cell_type": "code",
   "execution_count": 50,
   "metadata": {},
   "outputs": [
    {
     "name": "stdout",
     "output_type": "stream",
     "text": [
      "False\n",
      "True\n",
      "True\n"
     ]
    }
   ],
   "source": [
    "text = \"Python is easy to learn.\"\n",
    "\n",
    "result = text.startswith('is easy')\n",
    "# returns False\n",
    "print(result)\n",
    "\n",
    "result = text.startswith('Python is ')\n",
    "# returns True\n",
    "print(result)\n",
    "\n",
    "result = text.startswith('Python is easy to learn.')\n",
    "# returns True\n",
    "print(result)"
   ]
  },
  {
   "cell_type": "markdown",
   "metadata": {},
   "source": [
    "## Method: 'title()'"
   ]
  },
  {
   "cell_type": "markdown",
   "metadata": {},
   "source": [
    "### Returns a Title Cased String"
   ]
  },
  {
   "cell_type": "code",
   "execution_count": 51,
   "metadata": {},
   "outputs": [
    {
     "name": "stdout",
     "output_type": "stream",
     "text": [
      "He'S An Engineer, Isn'T He?\n"
     ]
    }
   ],
   "source": [
    "text = \"He's an engineer, isn't he?\"\n",
    "print(text.title())"
   ]
  },
  {
   "cell_type": "markdown",
   "metadata": {},
   "source": [
    "## Method: 'filter()'"
   ]
  },
  {
   "cell_type": "markdown",
   "metadata": {},
   "source": [
    "### constructs iterator from elements which are true"
   ]
  },
  {
   "cell_type": "code",
   "execution_count": 52,
   "metadata": {},
   "outputs": [
    {
     "name": "stdout",
     "output_type": "stream",
     "text": [
      "The filtered elements are:\n",
      "1\n",
      "a\n",
      "True\n",
      "0\n"
     ]
    }
   ],
   "source": [
    "# random list\n",
    "randomList = [1, 'a', 0, False, True, '0']\n",
    "\n",
    "filteredList = filter(None, randomList)\n",
    "\n",
    "print('The filtered elements are:')\n",
    "for element in filteredList:\n",
    "    print(element)"
   ]
  },
  {
   "cell_type": "markdown",
   "metadata": {},
   "source": [
    "## Method: 'reversed()'"
   ]
  },
  {
   "cell_type": "markdown",
   "metadata": {},
   "source": [
    "### returns reversed iterator of a sequence"
   ]
  },
  {
   "cell_type": "code",
   "execution_count": 53,
   "metadata": {},
   "outputs": [
    {
     "name": "stdout",
     "output_type": "stream",
     "text": [
      "['n', 'o', 'h', 't', 'y', 'P']\n",
      "['n', 'o', 'h', 't', 'y', 'P']\n",
      "[8, 7, 6, 5]\n",
      "[5, 3, 4, 2, 1]\n"
     ]
    }
   ],
   "source": [
    "# for string\n",
    "seqString = 'Python'\n",
    "print(list(reversed(seqString)))\n",
    "\n",
    "# for tuple\n",
    "seqTuple = ('P', 'y', 't', 'h', 'o', 'n')\n",
    "print(list(reversed(seqTuple)))\n",
    "\n",
    "# for range\n",
    "seqRange = range(5, 9)\n",
    "print(list(reversed(seqRange)))\n",
    "\n",
    "# for list\n",
    "seqList = [1, 2, 4, 3, 5]\n",
    "print(list(reversed(seqList)))"
   ]
  },
  {
   "cell_type": "markdown",
   "metadata": {},
   "source": [
    "## Method: 'slice()'"
   ]
  },
  {
   "cell_type": "markdown",
   "metadata": {},
   "source": [
    "### creates a slice object specified by range()"
   ]
  },
  {
   "cell_type": "code",
   "execution_count": 54,
   "metadata": {},
   "outputs": [
    {
     "name": "stdout",
     "output_type": "stream",
     "text": [
      "Pyt\n",
      "yh\n"
     ]
    }
   ],
   "source": [
    "pyString = 'Python'\n",
    "\n",
    "# contains indices (0, 1, 2)\n",
    "# i.e. P, y and t\n",
    "sObject = slice(3)\n",
    "\n",
    "print(pyString[sObject])\n",
    "\n",
    "# contains indices (1, 3)\n",
    "# i.e. y and h\n",
    "sObject = slice(1, 5, 2)\n",
    "\n",
    "print(pyString[sObject])"
   ]
  },
  {
   "cell_type": "markdown",
   "metadata": {},
   "source": [
    "## Method: 'sorted()'"
   ]
  },
  {
   "cell_type": "markdown",
   "metadata": {},
   "source": [
    "### returns sorted list from a given iterable"
   ]
  },
  {
   "cell_type": "code",
   "execution_count": 55,
   "metadata": {},
   "outputs": [
    {
     "name": "stdout",
     "output_type": "stream",
     "text": [
      "['a', 'e', 'i', 'o', 'u']\n",
      "['P', 'h', 'n', 'o', 't', 'y']\n",
      "['a', 'e', 'i', 'o', 'u']\n"
     ]
    }
   ],
   "source": [
    "# vowels list\n",
    "pyList = ['e', 'a', 'u', 'o', 'i']\n",
    "print(sorted(pyList))\n",
    "\n",
    "# string \n",
    "pyString = 'Python'\n",
    "print(sorted(pyString))\n",
    "\n",
    "# vowels tuple\n",
    "pyTuple = ('e', 'a', 'u', 'o', 'i')\n",
    "print(sorted(pyTuple))"
   ]
  },
  {
   "cell_type": "markdown",
   "metadata": {},
   "source": [
    "## Method: 'sum()'"
   ]
  },
  {
   "cell_type": "markdown",
   "metadata": {},
   "source": [
    "### Add items of an Iterable"
   ]
  },
  {
   "cell_type": "code",
   "execution_count": 56,
   "metadata": {},
   "outputs": [
    {
     "name": "stdout",
     "output_type": "stream",
     "text": [
      "4.5\n",
      "14.5\n"
     ]
    }
   ],
   "source": [
    "numbers = [2.5, 3, 4, -5]\n",
    "\n",
    "# start parameter is not provided\n",
    "numbersSum = sum(numbers)\n",
    "print(numbersSum)\n",
    "\n",
    "# start = 10\n",
    "numbersSum = sum(numbers, 10)\n",
    "print(numbersSum)"
   ]
  },
  {
   "cell_type": "markdown",
   "metadata": {},
   "source": []
  },
  {
   "cell_type": "markdown",
   "metadata": {},
   "source": [
    "## Method: 'zip()'"
   ]
  },
  {
   "cell_type": "code",
   "execution_count": 57,
   "metadata": {},
   "outputs": [
    {
     "name": "stdout",
     "output_type": "stream",
     "text": [
      "[]\n",
      "{(1, 'one'), (3, 'three'), (2, 'two')}\n"
     ]
    }
   ],
   "source": [
    "numberList = [1, 2, 3]\n",
    "strList = ['one', 'two', 'three']\n",
    "\n",
    "# No iterables are passed\n",
    "result = zip()\n",
    "\n",
    "# Converting itertor to list\n",
    "resultList = list(result)\n",
    "print(resultList)\n",
    "\n",
    "# Two iterables are passed\n",
    "result = zip(numberList, strList)\n",
    "\n",
    "# Converting itertor to set\n",
    "resultSet = set(result)\n",
    "print(resultSet)"
   ]
  },
  {
   "cell_type": "markdown",
   "metadata": {},
   "source": [
    "## Method: 'zfill()'"
   ]
  },
  {
   "cell_type": "markdown",
   "metadata": {},
   "source": [
    "### Returns a Copy of The String Padded With Zeros"
   ]
  },
  {
   "cell_type": "code",
   "execution_count": 58,
   "metadata": {},
   "outputs": [
    {
     "name": "stdout",
     "output_type": "stream",
     "text": [
      "0program is fun\n",
      "000000program is fun\n",
      "program is fun\n"
     ]
    }
   ],
   "source": [
    "text = \"program is fun\"\n",
    "print(text.zfill(15))\n",
    "print(text.zfill(20))\n",
    "print(text.zfill(10))"
   ]
  },
  {
   "cell_type": "markdown",
   "metadata": {},
   "source": [
    "# Operands and Operators"
   ]
  },
  {
   "cell_type": "code",
   "execution_count": 59,
   "metadata": {},
   "outputs": [
    {
     "name": "stdout",
     "output_type": "stream",
     "text": [
      "12\n"
     ]
    }
   ],
   "source": [
    "n = 5 + 7\n",
    "print(n)"
   ]
  },
  {
   "cell_type": "code",
   "execution_count": 60,
   "metadata": {},
   "outputs": [
    {
     "name": "stdout",
     "output_type": "stream",
     "text": [
      "2\n"
     ]
    }
   ],
   "source": [
    "m = 7 - 5\n",
    "print(m)"
   ]
  },
  {
   "cell_type": "code",
   "execution_count": 61,
   "metadata": {},
   "outputs": [
    {
     "name": "stdout",
     "output_type": "stream",
     "text": [
      "48\n"
     ]
    }
   ],
   "source": [
    "p = 12 * 4\n",
    "print(p)"
   ]
  },
  {
   "cell_type": "code",
   "execution_count": 62,
   "metadata": {},
   "outputs": [
    {
     "name": "stdout",
     "output_type": "stream",
     "text": [
      "4.0\n"
     ]
    }
   ],
   "source": [
    "q = 16/4\n",
    "print(q)"
   ]
  },
  {
   "cell_type": "code",
   "execution_count": 63,
   "metadata": {},
   "outputs": [
    {
     "name": "stdout",
     "output_type": "stream",
     "text": [
      "4\n"
     ]
    }
   ],
   "source": [
    "i = 20%8\n",
    "print(i)"
   ]
  },
  {
   "cell_type": "code",
   "execution_count": 64,
   "metadata": {},
   "outputs": [
    {
     "name": "stdout",
     "output_type": "stream",
     "text": [
      "11\n"
     ]
    }
   ],
   "source": [
    "j = \"1\" + \"1\"\n",
    "print(j)"
   ]
  },
  {
   "cell_type": "code",
   "execution_count": 65,
   "metadata": {},
   "outputs": [
    {
     "data": {
      "text/plain": [
       "'pakistanpakistan'"
      ]
     },
     "execution_count": 65,
     "metadata": {},
     "output_type": "execute_result"
    }
   ],
   "source": [
    "a = \"pakistan\"\n",
    "a * 2"
   ]
  },
  {
   "cell_type": "code",
   "execution_count": 66,
   "metadata": {},
   "outputs": [
    {
     "data": {
      "text/plain": [
       "2"
      ]
     },
     "execution_count": 66,
     "metadata": {},
     "output_type": "execute_result"
    }
   ],
   "source": [
    "int(\"1\") + int('1')"
   ]
  },
  {
   "cell_type": "code",
   "execution_count": 67,
   "metadata": {},
   "outputs": [
    {
     "name": "stdout",
     "output_type": "stream",
     "text": [
      "6.222222222222222\n"
     ]
    }
   ],
   "source": [
    "k = 56.0/9\n",
    "print(k)"
   ]
  },
  {
   "cell_type": "code",
   "execution_count": 68,
   "metadata": {},
   "outputs": [
    {
     "name": "stdout",
     "output_type": "stream",
     "text": [
      "6.0\n"
     ]
    }
   ],
   "source": [
    "f = 56.0//9\n",
    "print(f)"
   ]
  },
  {
   "cell_type": "code",
   "execution_count": 69,
   "metadata": {},
   "outputs": [
    {
     "name": "stdout",
     "output_type": "stream",
     "text": [
      "0.0\n"
     ]
    }
   ],
   "source": [
    "e = 54.0%6.0\n",
    "print(e)"
   ]
  },
  {
   "cell_type": "code",
   "execution_count": 70,
   "metadata": {},
   "outputs": [
    {
     "name": "stdout",
     "output_type": "stream",
     "text": [
      "7.0\n"
     ]
    }
   ],
   "source": [
    "w = 56.0/8.0\n",
    "print(w)"
   ]
  }
 ],
 "metadata": {
  "kernelspec": {
   "display_name": "Python 3",
   "language": "python",
   "name": "python3"
  },
  "language_info": {
   "codemirror_mode": {
    "name": "ipython",
    "version": 3
   },
   "file_extension": ".py",
   "mimetype": "text/x-python",
   "name": "python",
   "nbconvert_exporter": "python",
   "pygments_lexer": "ipython3",
   "version": "3.6.5"
  }
 },
 "nbformat": 4,
 "nbformat_minor": 2
}
